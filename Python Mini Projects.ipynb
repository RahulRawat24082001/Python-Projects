{
 "cells": [
  {
   "cell_type": "markdown",
   "id": "8befffe7",
   "metadata": {},
   "source": [
    "# QR Code generation : "
   ]
  },
  {
   "cell_type": "code",
   "execution_count": 6,
   "id": "4e0e197f",
   "metadata": {
    "collapsed": true
   },
   "outputs": [
    {
     "name": "stdout",
     "output_type": "stream",
     "text": [
      "Defaulting to user installation because normal site-packages is not writeable\n",
      "Collecting PyQRCode\n",
      "  Downloading PyQRCode-1.2.1.zip (41 kB)\n",
      "     ---------------------------------------- 0.0/41.9 kB ? eta -:--:--\n",
      "     ------------------- -------------------- 20.5/41.9 kB ? eta -:--:--\n",
      "     ------------------- -------------------- 20.5/41.9 kB ? eta -:--:--\n",
      "     -------------------------------------- 41.9/41.9 kB 290.7 kB/s eta 0:00:00\n",
      "  Preparing metadata (setup.py): started\n",
      "  Preparing metadata (setup.py): finished with status 'done'\n",
      "Building wheels for collected packages: PyQRCode\n",
      "  Building wheel for PyQRCode (setup.py): started\n",
      "  Building wheel for PyQRCode (setup.py): finished with status 'done'\n",
      "  Created wheel for PyQRCode: filename=PyQRCode-1.2.1-py3-none-any.whl size=36240 sha256=65faa4599270ec4070a7b9cea22908d8d5cdaa95f3dcc25b7403e22fdd43d201\n",
      "  Stored in directory: c:\\users\\rgm\\appdata\\local\\pip\\cache\\wheels\\f5\\db\\22\\ade11e0c0854d1bb2fcc673dc90f6495ee2c0d2b6eb41492e3\n",
      "Successfully built PyQRCode\n",
      "Installing collected packages: PyQRCode\n",
      "Successfully installed PyQRCode-1.2.1\n"
     ]
    }
   ],
   "source": [
    "!pip install PyQRCode"
   ]
  },
  {
   "cell_type": "code",
   "execution_count": 8,
   "id": "e29a315e",
   "metadata": {
    "collapsed": true
   },
   "outputs": [
    {
     "name": "stdout",
     "output_type": "stream",
     "text": [
      "Defaulting to user installation because normal site-packages is not writeable\n",
      "Collecting pypng\n",
      "  Obtaining dependency information for pypng from https://files.pythonhosted.org/packages/3e/b9/3766cc361d93edb2ce81e2e1f87dd98f314d7d513877a342d31b30741680/pypng-0.20220715.0-py3-none-any.whl.metadata\n",
      "  Downloading pypng-0.20220715.0-py3-none-any.whl.metadata (13 kB)\n",
      "Downloading pypng-0.20220715.0-py3-none-any.whl (58 kB)\n",
      "   ---------------------------------------- 0.0/58.1 kB ? eta -:--:--\n",
      "   -------------- ------------------------- 20.5/58.1 kB ? eta -:--:--\n",
      "   --------------------- ------------------ 30.7/58.1 kB 1.4 MB/s eta 0:00:01\n",
      "   ---------------------------------------- 58.1/58.1 kB 613.0 kB/s eta 0:00:00\n",
      "Installing collected packages: pypng\n",
      "Successfully installed pypng-0.20220715.0\n"
     ]
    }
   ],
   "source": [
    "!pip install pypng"
   ]
  },
  {
   "cell_type": "code",
   "execution_count": 19,
   "id": "2e6a8511",
   "metadata": {},
   "outputs": [],
   "source": [
    "import pyqrcode\n",
    "import png\n",
    "import matplotlib.pyplot as plt\n",
    "link = \"https://www.python.org/\"\n",
    "qr_code = pyqrcode.create(link)\n",
    "qr_code.png(\"python_qrcode.png\", scale=5)"
   ]
  },
  {
   "attachments": {
    "python_qrcode.png": {
     "image/png": "[encoded data removed]"
    }
   },
   "cell_type": "markdown",
   "id": "a5f08eea",
   "metadata": {},
   "source": [
    "**QR Code Markdown :**\n",
    "![python_qrcode.png](attachment:python_qrcode.png)"
   ]
  },
  {
   "cell_type": "markdown",
   "id": "26a26b54",
   "metadata": {},
   "source": [
    "# Correct Spellings : "
   ]
  },
  {
   "cell_type": "code",
   "execution_count": 25,
   "id": "7c513824",
   "metadata": {
    "collapsed": true
   },
   "outputs": [
    {
     "name": "stdout",
     "output_type": "stream",
     "text": [
      "Defaulting to user installation because normal site-packages is not writeable\n",
      "Collecting pyspellchecker\n",
      "  Obtaining dependency information for pyspellchecker from https://files.pythonhosted.org/packages/e1/d2/c7e3b3a61a34b9320399fa731d1f9f0c73db8a1f28c6764e9e11efa68a29/pyspellchecker-0.8.1-py3-none-any.whl.metadata\n",
      "  Downloading pyspellchecker-0.8.1-py3-none-any.whl.metadata (9.4 kB)\n",
      "Downloading pyspellchecker-0.8.1-py3-none-any.whl (6.8 MB)\n",
      "   ---------------------------------------- 0.0/6.8 MB ? eta -:--:--\n",
      "   ---------------------------------------- 0.0/6.8 MB 682.7 kB/s eta 0:00:10\n",
      "   ---------------------------------------- 0.0/6.8 MB 682.7 kB/s eta 0:00:10\n",
      "   ---------------------------------------- 0.0/6.8 MB 219.4 kB/s eta 0:00:31\n",
      "   ---------------------------------------- 0.0/6.8 MB 219.4 kB/s eta 0:00:31\n",
      "    --------------------------------------- 0.1/6.8 MB 350.1 kB/s eta 0:00:20\n",
      "   ----- ---------------------------------- 1.0/6.8 MB 3.6 MB/s eta 0:00:02\n",
      "   ---------------- ----------------------- 2.8/6.8 MB 8.5 MB/s eta 0:00:01\n",
      "   ------------------------- -------------- 4.3/6.8 MB 11.5 MB/s eta 0:00:01\n",
      "   ---------------------------------------  6.6/6.8 MB 15.6 MB/s eta 0:00:01\n",
      "   ---------------------------------------  6.8/6.8 MB 16.0 MB/s eta 0:00:01\n",
      "   ---------------------------------------- 6.8/6.8 MB 13.1 MB/s eta 0:00:00\n",
      "Installing collected packages: pyspellchecker\n",
      "Successfully installed pyspellchecker-0.8.1\n"
     ]
    }
   ],
   "source": [
    "!pip install pyspellchecker"
   ]
  },
  {
   "cell_type": "code",
   "execution_count": 35,
   "id": "1e379067",
   "metadata": {},
   "outputs": [
    {
     "name": "stdout",
     "output_type": "stream",
     "text": [
      "Enter a Word : Adwentures\n",
      "Wrong Spelling \n",
      " I think you wanted to write : adventures\n"
     ]
    }
   ],
   "source": [
    "from spellchecker import SpellChecker\n",
    "corrector = SpellChecker()\n",
    "\n",
    "word = input(\"Enter a Word : \")\n",
    "if word in corrector:\n",
    "    print(\"Correct\")\n",
    "else:\n",
    "    correct_word = corrector.correction(word)\n",
    "    print(\"Wrong Spelling \\n\",\"I think you wanted to write :\", correct_word)"
   ]
  },
  {
   "cell_type": "markdown",
   "id": "2f54ce62",
   "metadata": {},
   "source": [
    "# Password Authentication : \n"
   ]
  },
  {
   "cell_type": "code",
   "execution_count": 1,
   "id": "d6decc7a",
   "metadata": {
    "scrolled": false
   },
   "outputs": [
    {
     "name": "stdout",
     "output_type": "stream",
     "text": [
      "Enter Your Username : Rahul_Rawat\n",
      "Enter Your Password : ········\n",
      "Enter Your Password Again : ········\n",
      "Enter Your Password Again : ········\n",
      "Enter Your Password Again : ········\n",
      "Verified\n"
     ]
    }
   ],
   "source": [
    "import getpass\n",
    "database = {\"Rahul_Rawat\": \"123456\", \"Rawat_Rahul\": \"654321\"}\n",
    "username = input(\"Enter Your Username : \")\n",
    "password = getpass.getpass(\"Enter Your Password : \")\n",
    "for i in database.keys():\n",
    "    if username == i:\n",
    "        while password != database.get(i):\n",
    "            password = getpass.getpass(\"Enter Your Password Again : \")\n",
    "        break\n",
    "print(\"Verified\")"
   ]
  },
  {
   "cell_type": "markdown",
   "id": "cf7db332",
   "metadata": {},
   "source": [
    "# Number Guessing Game : "
   ]
  },
  {
   "cell_type": "code",
   "execution_count": 9,
   "id": "01b65690",
   "metadata": {},
   "outputs": [
    {
     "name": "stdout",
     "output_type": "stream",
     "text": [
      "Enter any number between 1-10 :5\n",
      "Too High\n",
      "Enter number again :3\n",
      "Too High\n",
      "Enter number again :1\n",
      "You guessed it right !!\n"
     ]
    }
   ],
   "source": [
    "import random\n",
    "n = random.randrange(1,10)\n",
    "guess = int(input(\"Enter any number between 1-10 :\"))\n",
    "while n!=guess:\n",
    "    if guess < n:\n",
    "        print(\"Too Low\")\n",
    "        guess = int(input(\"Enter number again :\"))\n",
    "    elif guess > n: \n",
    "        print(\"Too High\")\n",
    "        guess = int(input(\"Enter number again :\"))\n",
    "    else : \n",
    "        break\n",
    "print(\"You guessed it right !!\")"
   ]
  },
  {
   "cell_type": "markdown",
   "id": "2e464974",
   "metadata": {},
   "source": [
    "# Rock Paper Scissors Game :\n"
   ]
  },
  {
   "cell_type": "code",
   "execution_count": 4,
   "id": "b2da87d1",
   "metadata": {
    "scrolled": true
   },
   "outputs": [
    {
     "name": "stdout",
     "output_type": "stream",
     "text": [
      "Select Rock, Paper, or Scissor :Scissors\n",
      "Opponent selected:  paper\n",
      "You Won\n"
     ]
    }
   ],
   "source": [
    "import random\n",
    "\n",
    "player1 = input(\"Select Rock, Paper, or Scissor :\").lower()\n",
    "opponent = random.choice([\"Rock\", \"Paper\", \"Scissor\"]).lower()\n",
    "print(\"Opponent selected: \", opponent)\n",
    "\n",
    "if player1 == \"rock\" and opponent == \"paper\":\n",
    "    print(\"Opponent Won\")\n",
    "elif player1 == \"paper\" and opponent == \"scissor\":\n",
    "    print(\"Opponent Won\")\n",
    "elif player1 == \"scissor\" and opponent == \"rock\":\n",
    "    print(\"Opponent Won\")\n",
    "elif player1 == opponent:\n",
    "    print(\"Tie\")\n",
    "else:\n",
    "    print(\"You Won\")"
   ]
  }
 ],
 "metadata": {
  "kernelspec": {
   "display_name": "Python 3 (ipykernel)",
   "language": "python",
   "name": "python3"
  },
  "language_info": {
   "codemirror_mode": {
    "name": "ipython",
    "version": 3
   },
   "file_extension": ".py",
   "mimetype": "text/x-python",
   "name": "python",
   "nbconvert_exporter": "python",
   "pygments_lexer": "ipython3",
   "version": "3.11.5"
  }
 },
 "nbformat": 4,
 "nbformat_minor": 5
}
